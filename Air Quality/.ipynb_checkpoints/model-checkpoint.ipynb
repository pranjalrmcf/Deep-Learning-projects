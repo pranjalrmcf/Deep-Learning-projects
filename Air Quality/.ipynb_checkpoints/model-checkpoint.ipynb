{
 "cells": [
  {
   "cell_type": "code",
   "execution_count": 2,
   "id": "120832fd-69d9-4b13-bd37-d010419611ce",
   "metadata": {},
   "outputs": [],
   "source": [
    "import pandas as pd\n",
    "from tensorflow import keras\n",
    "from tensorflow.keras import layers\n",
    "from keras_tuner.tuners import RandomSearch"
   ]
  },
  {
   "cell_type": "code",
   "execution_count": 3,
   "id": "b16d6374-5f4d-4243-9ac7-338024138226",
   "metadata": {},
   "outputs": [],
   "source": [
    "df=pd.read_csv('Real_Combine.csv')"
   ]
  },
  {
   "cell_type": "code",
   "execution_count": 13,
   "id": "fbc64256-53b2-4c33-8485-1cb117f3b7e9",
   "metadata": {},
   "outputs": [],
   "source": [
    "df = df.dropna()"
   ]
  },
  {
   "cell_type": "code",
   "execution_count": 14,
   "id": "38fd5036-c150-4be2-9ae6-b9e4b6a704f6",
   "metadata": {},
   "outputs": [],
   "source": [
    "X=df.iloc[:,:-1] ## independent features\n",
    "y=df.iloc[:,-1] ## dependent features"
   ]
  },
  {
   "cell_type": "code",
   "execution_count": 16,
   "id": "f4a5b67c-0684-4b74-89c6-6faceca80e57",
   "metadata": {},
   "outputs": [],
   "source": [
    "def build_model(hp):\n",
    "    model = keras.Sequential()\n",
    "    for i in range(hp.Int('num_layers', 2, 20)):\n",
    "        model.add(layers.Dense(units=hp.Int('units_' + str(i),\n",
    "                                            min_value=32,\n",
    "                                            max_value=512,\n",
    "                                            step=32),\n",
    "                               activation='relu'))\n",
    "    model.add(layers.Dense(1, activation='linear'))\n",
    "    model.compile(\n",
    "        optimizer=keras.optimizers.Adam(\n",
    "            hp.Choice('learning_rate', [1e-2, 1e-3, 1e-4])),\n",
    "        loss='mean_absolute_error',\n",
    "        metrics=['mean_absolute_error'])\n",
    "    return model"
   ]
  },
  {
   "cell_type": "code",
   "execution_count": 20,
   "id": "7cec66f1-733c-49b8-a16d-8f0d95b7bbc5",
   "metadata": {},
   "outputs": [
    {
     "name": "stdout",
     "output_type": "stream",
     "text": [
      "Reloading Tuner from project\\Air Quality Index\\tuner0.json\n"
     ]
    }
   ],
   "source": [
    "tuner = RandomSearch(\n",
    "    build_model,\n",
    "    objective='val_mean_absolute_error',\n",
    "    max_trials=5,\n",
    "    executions_per_trial=3,\n",
    "    directory='project',\n",
    "    max_retries_per_trial=3,\n",
    "    max_consecutive_failed_trials=8,\n",
    "    project_name='Air Quality Index')"
   ]
  },
  {
   "cell_type": "code",
   "execution_count": 21,
   "id": "9d695630-9d72-4f38-aba3-68b37f3c5695",
   "metadata": {},
   "outputs": [],
   "source": [
    "from sklearn.model_selection import train_test_split\n",
    "X_train, X_test, y_train, y_test = train_test_split(X, y, test_size=0.3, random_state=0)"
   ]
  },
  {
   "cell_type": "code",
   "execution_count": 22,
   "id": "1c60b0da-0437-4426-b6d5-dec4dd344f3e",
   "metadata": {},
   "outputs": [
    {
     "name": "stdout",
     "output_type": "stream",
     "text": [
      "Trial 5 Complete [00h 00m 20s]\n",
      "val_mean_absolute_error: 62.51909255981445\n",
      "\n",
      "Best val_mean_absolute_error So Far: 62.51909255981445\n",
      "Total elapsed time: 00h 20m 17s\n"
     ]
    }
   ],
   "source": [
    "tuner.search(X_train, y_train,\n",
    "             epochs=5,\n",
    "             validation_data=(X_test, y_test))"
   ]
  },
  {
   "cell_type": "code",
   "execution_count": 24,
   "id": "0156ea3a-13db-44f8-afe9-e2628762f444",
   "metadata": {},
   "outputs": [
    {
     "name": "stdout",
     "output_type": "stream",
     "text": [
      "Results summary\n",
      "Results in project\\Air Quality Index\n",
      "Showing 10 best trials\n",
      "Objective(name=\"val_mean_absolute_error\", direction=\"min\")\n",
      "\n",
      "Trial 4 summary\n",
      "Hyperparameters:\n",
      "num_layers: 4\n",
      "units_0: 96\n",
      "units_1: 288\n",
      "learning_rate: 0.001\n",
      "units_2: 320\n",
      "units_3: 192\n",
      "units_4: 512\n",
      "units_5: 480\n",
      "units_6: 288\n",
      "units_7: 96\n",
      "units_8: 32\n",
      "units_9: 64\n",
      "units_10: 352\n",
      "units_11: 320\n",
      "units_12: 64\n",
      "units_13: 384\n",
      "units_14: 160\n",
      "units_15: 288\n",
      "units_16: 96\n",
      "Score: 62.51909255981445\n",
      "\n",
      "Trial 3 summary\n",
      "Hyperparameters:\n",
      "num_layers: 17\n",
      "units_0: 64\n",
      "units_1: 160\n",
      "learning_rate: 0.0001\n",
      "units_2: 288\n",
      "units_3: 512\n",
      "units_4: 256\n",
      "units_5: 288\n",
      "units_6: 512\n",
      "units_7: 288\n",
      "units_8: 448\n",
      "units_9: 160\n",
      "units_10: 32\n",
      "units_11: 320\n",
      "units_12: 512\n",
      "units_13: 64\n",
      "units_14: 224\n",
      "units_15: 256\n",
      "units_16: 320\n",
      "Score: 64.29325103759766\n",
      "\n",
      "Trial 0 summary\n",
      "Hyperparameters:\n",
      "num_layers: 17\n",
      "units_0: 320\n",
      "units_1: 448\n",
      "learning_rate: 0.01\n",
      "units_2: 32\n",
      "units_3: 32\n",
      "units_4: 32\n",
      "units_5: 32\n",
      "units_6: 32\n",
      "units_7: 32\n",
      "units_8: 32\n",
      "units_9: 32\n",
      "units_10: 32\n",
      "units_11: 32\n",
      "units_12: 32\n",
      "units_13: 32\n",
      "units_14: 32\n",
      "units_15: 32\n",
      "units_16: 32\n",
      "Score: nan\n",
      "\n",
      "Trial 1 summary\n",
      "Hyperparameters:\n",
      "num_layers: 15\n",
      "units_0: 288\n",
      "units_1: 224\n",
      "learning_rate: 0.01\n",
      "units_2: 224\n",
      "units_3: 416\n",
      "units_4: 224\n",
      "units_5: 320\n",
      "units_6: 320\n",
      "units_7: 224\n",
      "units_8: 192\n",
      "units_9: 352\n",
      "units_10: 192\n",
      "units_11: 288\n",
      "units_12: 160\n",
      "units_13: 160\n",
      "units_14: 384\n",
      "units_15: 320\n",
      "units_16: 320\n",
      "Score: nan\n",
      "\n",
      "Trial 2 summary\n",
      "Hyperparameters:\n",
      "num_layers: 10\n",
      "units_0: 224\n",
      "units_1: 384\n",
      "learning_rate: 0.01\n",
      "units_2: 352\n",
      "units_3: 160\n",
      "units_4: 96\n",
      "units_5: 480\n",
      "units_6: 192\n",
      "units_7: 480\n",
      "units_8: 512\n",
      "units_9: 128\n",
      "units_10: 160\n",
      "units_11: 448\n",
      "units_12: 224\n",
      "units_13: 352\n",
      "units_14: 192\n",
      "units_15: 384\n",
      "units_16: 32\n",
      "Score: nan\n"
     ]
    }
   ],
   "source": [
    "tuner.results_summary()"
   ]
  },
  {
   "cell_type": "code",
   "execution_count": null,
   "id": "b8892b1b-918e-4505-957f-9fc94efb7ae2",
   "metadata": {},
   "outputs": [],
   "source": []
  }
 ],
 "metadata": {
  "kernelspec": {
   "display_name": "Python 3 (ipykernel)",
   "language": "python",
   "name": "python3"
  },
  "language_info": {
   "codemirror_mode": {
    "name": "ipython",
    "version": 3
   },
   "file_extension": ".py",
   "mimetype": "text/x-python",
   "name": "python",
   "nbconvert_exporter": "python",
   "pygments_lexer": "ipython3",
   "version": "3.11.7"
  }
 },
 "nbformat": 4,
 "nbformat_minor": 5
}
